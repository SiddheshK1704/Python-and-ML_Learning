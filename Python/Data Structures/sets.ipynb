{
 "cells": [
  {
   "cell_type": "markdown",
   "metadata": {},
   "source": [
    "# Sets\n",
    "sets are built in data structures in Python used to store collection of unique Items\n",
    "unordered"
   ]
  },
  {
   "cell_type": "code",
   "execution_count": 2,
   "metadata": {},
   "outputs": [
    {
     "name": "stdout",
     "output_type": "stream",
     "text": [
      "{1, 2, 3, 4, 5}\n",
      "<class 'set'>\n"
     ]
    }
   ],
   "source": [
    "## creating a set\n",
    "myset={1,2,3,4,5}\n",
    "print(myset)\n",
    "print(type(myset))"
   ]
  },
  {
   "cell_type": "code",
   "execution_count": 1,
   "metadata": {},
   "outputs": [
    {
     "name": "stdout",
     "output_type": "stream",
     "text": [
      "{1, 2, 3, 4, 5, 6}\n"
     ]
    }
   ],
   "source": [
    "# we can typecast lists or tuples into sets\n",
    "my_set={1,2,2,3,4,5,5,6}\n",
    "print(my_set) # removes duplicates, and shows the element only once"
   ]
  },
  {
   "cell_type": "code",
   "execution_count": 3,
   "metadata": {},
   "outputs": [
    {
     "name": "stdout",
     "output_type": "stream",
     "text": [
      "{1, 2, 3, 4, 5, 6, 7}\n"
     ]
    }
   ],
   "source": [
    "# basicc set operations\n",
    "# adding and removing elements\n",
    "my_set.add(7)\n",
    "print(my_set)\n",
    "#if we add an element that is alreqady present, the set ignores it because it is a duplicate"
   ]
  },
  {
   "cell_type": "code",
   "execution_count": 7,
   "metadata": {},
   "outputs": [
    {
     "name": "stdout",
     "output_type": "stream",
     "text": [
      "{1, 2, 4, 5, 6, 7}\n"
     ]
    }
   ],
   "source": [
    "#removing the elements from a set\n",
    "my_set.remove(3)\n",
    "print(my_set)"
   ]
  },
  {
   "cell_type": "code",
   "execution_count": 8,
   "metadata": {},
   "outputs": [
    {
     "name": "stdout",
     "output_type": "stream",
     "text": [
      "{1, 2, 4, 5, 6, 7}\n"
     ]
    }
   ],
   "source": [
    "my_set.discard(11) #fi the element is present, it removes the element, but if it is not there, it shows no error.\n",
    "print(my_set)"
   ]
  },
  {
   "cell_type": "code",
   "execution_count": null,
   "metadata": {},
   "outputs": [
    {
     "name": "stdout",
     "output_type": "stream",
     "text": [
      "4\n",
      "{5, 6, 7}\n"
     ]
    }
   ],
   "source": [
    "#pop\n",
    "removed_element=my_set.pop()\n",
    "print(removed_element)\n",
    "print(my_set)\n",
    "#FIFO\n",
    "#first element which is inserted, gets removed first"
   ]
  },
  {
   "cell_type": "code",
   "execution_count": 12,
   "metadata": {},
   "outputs": [
    {
     "name": "stdout",
     "output_type": "stream",
     "text": [
      "set()\n"
     ]
    }
   ],
   "source": [
    "#clear all the elements\n",
    "my_set.clear()\n",
    "print(my_set)"
   ]
  },
  {
   "cell_type": "code",
   "execution_count": 13,
   "metadata": {},
   "outputs": [
    {
     "name": "stdout",
     "output_type": "stream",
     "text": [
      "True\n",
      "False\n"
     ]
    }
   ],
   "source": [
    "# set  membership test\n",
    "my_set={1,2,3,4,5}\n",
    "print(3 in my_set)\n",
    "print(10 in my_set)"
   ]
  },
  {
   "cell_type": "code",
   "execution_count": 15,
   "metadata": {},
   "outputs": [
    {
     "name": "stdout",
     "output_type": "stream",
     "text": [
      "{1, 2, 3, 4, 5, 6, 7, 8, 9}\n"
     ]
    }
   ],
   "source": [
    "#mathematical set operations\n",
    "set1={1,2,3,4,5,6}\n",
    "set2={4,5,6,7,8,9}\n",
    "\n",
    "#union\n",
    "union_set=set1.union(set2)\n",
    "print(union_set)"
   ]
  },
  {
   "cell_type": "code",
   "execution_count": 20,
   "metadata": {},
   "outputs": [
    {
     "name": "stdout",
     "output_type": "stream",
     "text": [
      "{4, 5, 6}\n",
      "{4, 5, 6}\n"
     ]
    }
   ],
   "source": [
    "# intersection (common elements)\n",
    "int_set=set1.intersection(set2)\n",
    "print(int_set)\n",
    "\n",
    "#intersection_update(gives the intyersection and saves/updates it in set1)\n",
    "set1.intersection_update(set2)\n",
    "print(set1)"
   ]
  },
  {
   "cell_type": "code",
   "execution_count": null,
   "metadata": {},
   "outputs": [
    {
     "name": "stdout",
     "output_type": "stream",
     "text": [
      "{1, 2, 3}\n"
     ]
    }
   ],
   "source": [
    "# difference (elements which are in set1 but not in s2/removes the common elements)\n",
    "set1={1,2,3,4,5,6}\n",
    "set2={4,5,6,7,8,9}\n",
    "\n",
    "set1.difference(set2)\n",
    "print(set1.difference(set2))\n",
    "# can do difference_update as well"
   ]
  },
  {
   "cell_type": "code",
   "execution_count": 23,
   "metadata": {},
   "outputs": [
    {
     "name": "stdout",
     "output_type": "stream",
     "text": [
      "{1, 2, 3, 7, 8, 9}\n"
     ]
    }
   ],
   "source": [
    "# symmetric difference (every element other than the ones which are common)\n",
    "print(set1.symmetric_difference(set2))\n"
   ]
  },
  {
   "cell_type": "code",
   "execution_count": 25,
   "metadata": {},
   "outputs": [
    {
     "name": "stdout",
     "output_type": "stream",
     "text": [
      "False\n",
      "False\n"
     ]
    }
   ],
   "source": [
    "## set methods\n",
    "set1={1,2,3}\n",
    "set2={4,5,6}\n",
    "\n",
    "#is subset\n",
    "print(set1.issubset(set2))\n",
    "\n",
    "#is superset\n",
    "print(set1.issuperset(set2))"
   ]
  },
  {
   "cell_type": "code",
   "execution_count": 26,
   "metadata": {},
   "outputs": [
    {
     "data": {
      "text/plain": [
       "{1, 2, 3, 4, 5, 6}"
      ]
     },
     "execution_count": 26,
     "metadata": {},
     "output_type": "execute_result"
    }
   ],
   "source": [
    "lst=[1,2,2,3,4,5,5,6]\n",
    "set(lst)"
   ]
  },
  {
   "cell_type": "code",
   "execution_count": 28,
   "metadata": {},
   "outputs": [
    {
     "name": "stdout",
     "output_type": "stream",
     "text": [
      "{'discussing', 'in', 'are', 'we', 'about', 'sets', 'python.'}\n",
      "7\n"
     ]
    }
   ],
   "source": [
    "#counting Unique words in text\n",
    "text=\"we are discussing about sets in python.\"\n",
    "words=text.split()\n",
    "\n",
    "#convert list of words to a set to get unique words.\n",
    "\n",
    "unique_words=set(words)\n",
    "print(unique_words)\n",
    "print(len(unique_words))"
   ]
  },
  {
   "cell_type": "code",
   "execution_count": null,
   "metadata": {},
   "outputs": [],
   "source": []
  }
 ],
 "metadata": {
  "kernelspec": {
   "display_name": "venv",
   "language": "python",
   "name": "python3"
  },
  "language_info": {
   "codemirror_mode": {
    "name": "ipython",
    "version": 3
   },
   "file_extension": ".py",
   "mimetype": "text/x-python",
   "name": "python",
   "nbconvert_exporter": "python",
   "pygments_lexer": "ipython3",
   "version": "3.12.7"
  }
 },
 "nbformat": 4,
 "nbformat_minor": 2
}
