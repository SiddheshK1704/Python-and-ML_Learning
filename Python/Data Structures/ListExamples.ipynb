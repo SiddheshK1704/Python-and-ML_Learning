{
 "cells": [
  {
   "cell_type": "markdown",
   "metadata": {},
   "source": [
    "### Real world Examples of lists"
   ]
  },
  {
   "cell_type": "markdown",
   "metadata": {},
   "source": [
    "#### Ex1: to-do list"
   ]
  },
  {
   "cell_type": "code",
   "execution_count": 1,
   "metadata": {},
   "outputs": [
    {
     "name": "stdout",
     "output_type": "stream",
     "text": [
      "Don't forget to pay the utility bills\n",
      "to do list remaining:\n",
      "-Buy Groceries\n",
      "-Pay bills\n",
      "-Schedule meeting\n",
      "-Go for a run\n"
     ]
    }
   ],
   "source": [
    "to_do_list=[\"Buy Groceries\",\"Clean the house\",\"Pay bills\"]\n",
    "# adding a task\n",
    "to_do_list.append(\"Schedule meeting\")\n",
    "to_do_list.append(\"Go for a run\")\n",
    "\n",
    "# removing a task\n",
    "to_do_list.remove(\"Clean the house\")\n",
    "\n",
    "# checking if a task is there in the list or not\n",
    "if \"Pay bills\" in to_do_list:\n",
    "    print(\"Don't forget to pay the utility bills\")\n",
    "\n",
    "print(\"to do list remaining:\")\n",
    "for task in to_do_list:\n",
    "    print(f\"-{task}\")"
   ]
  },
  {
   "cell_type": "markdown",
   "metadata": {},
   "source": [
    "#### Ex2: Organising student grades"
   ]
  },
  {
   "cell_type": "code",
   "execution_count": 2,
   "metadata": {},
   "outputs": [
    {
     "name": "stdout",
     "output_type": "stream",
     "text": [
      "Average grade: 88.0\n",
      "Highest grade: 95\n",
      "Lowest grade: 78\n"
     ]
    }
   ],
   "source": [
    "#organising student grades\n",
    "grades=[85,92,78,90,88]\n",
    "\n",
    "# adding a new grade\n",
    "grades.append(95)\n",
    "\n",
    "# calculating the average grade\n",
    "avg_grade=sum(grades)/len(grades)\n",
    "print(f\"Average grade: {avg_grade}\")\n",
    "\n",
    "# finding the highest and the lowest grades\n",
    "highest_grade=max(grades)\n",
    "lowest_grade=min(grades)\n",
    "print(f\"Highest grade: {highest_grade}\")\n",
    "print(f\"Lowest grade: {lowest_grade}\")"
   ]
  },
  {
   "cell_type": "markdown",
   "metadata": {},
   "source": [
    "#### Ex3: Managing inventory"
   ]
  },
  {
   "cell_type": "code",
   "execution_count": 3,
   "metadata": {},
   "outputs": [
    {
     "name": "stdout",
     "output_type": "stream",
     "text": [
      "oranges are in stock.\n",
      "Inventory:\n",
      "-apples\n",
      "-oranges\n",
      "-grapes\n",
      "-strawberries\n"
     ]
    }
   ],
   "source": [
    "# managing inventory\n",
    "inv=[\"apples\",\"bananas\",\"oranges\",\"grapes\"]\n",
    "\n",
    "#adding a new item\n",
    "inv.append(\"strawberries\")\n",
    "\n",
    "#removing an item\n",
    "inv.remove(\"bananas\")\n",
    "\n",
    "#checking if an item is in stock\n",
    "item=\"oranges\"\n",
    "if item in inv:\n",
    "    print(f\"{item} are in stock.\")\n",
    "else:\n",
    "    print(f\"{item} are out of stock.\")\n",
    "\n",
    "# printing the inventory\n",
    "print(\"Inventory:\")\n",
    "for item in inv:\n",
    "    print(f\"-{item}\")"
   ]
  },
  {
   "cell_type": "markdown",
   "metadata": {},
   "source": [
    "#### Ex4: Collecting user feedback"
   ]
  },
  {
   "cell_type": "code",
   "execution_count": 4,
   "metadata": {},
   "outputs": [
    {
     "name": "stdout",
     "output_type": "stream",
     "text": [
      "Positive Feedback count: 2\n",
      "-Great service!\n",
      "-Very satisfied\n",
      "-Could be better\n",
      "-Excellent experience\n",
      "-not happy with the service\n"
     ]
    }
   ],
   "source": [
    "#collecting feedback\n",
    "fb=[\"Great service!\",\"Very satisfied\",\"Could be better\", \"Excellent experience\"]\n",
    "\n",
    "#adding new feedback\n",
    "fb.append(\"not happy with the service\")\n",
    "\n",
    "#Counting specific feedback\n",
    "pos_fb_count=sum(1 for comment in fb if \"great\" in comment.lower() or \"excellent\" in comment.lower())\n",
    "print(f\"Positive Feedback count: {pos_fb_count}\")\n",
    "\n",
    "# printing all feedback\n",
    "for comment in fb:\n",
    "    print(f\"-{comment}\")"
   ]
  }
 ],
 "metadata": {
  "kernelspec": {
   "display_name": "venv",
   "language": "python",
   "name": "python3"
  },
  "language_info": {
   "codemirror_mode": {
    "name": "ipython",
    "version": 3
   },
   "file_extension": ".py",
   "mimetype": "text/x-python",
   "name": "python",
   "nbconvert_exporter": "python",
   "pygments_lexer": "ipython3",
   "version": "3.12.7"
  }
 },
 "nbformat": 4,
 "nbformat_minor": 2
}
