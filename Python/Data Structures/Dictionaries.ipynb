{
 "cells": [
  {
   "cell_type": "markdown",
   "metadata": {},
   "source": [
    "# Dictionaries\n",
    "Dictionaries are unordered collection of items, they store data in key value pairs. The key stays unique and immutable, but the values can be altered."
   ]
  },
  {
   "cell_type": "code",
   "execution_count": 2,
   "metadata": {},
   "outputs": [
    {
     "name": "stdout",
     "output_type": "stream",
     "text": [
      "<class 'dict'>\n"
     ]
    }
   ],
   "source": [
    "# Creating dictionary\n",
    "# dictionaries also use flower braces like sets, but they have key value pairs.\n",
    "empty_dict={}\n",
    "print(type(empty_dict))"
   ]
  },
  {
   "cell_type": "code",
   "execution_count": 3,
   "metadata": {},
   "outputs": [],
   "source": [
    "empty_dict=dict() #initializing empty dictionary"
   ]
  },
  {
   "cell_type": "code",
   "execution_count": 6,
   "metadata": {},
   "outputs": [
    {
     "name": "stdout",
     "output_type": "stream",
     "text": [
      "{'Name': 'Siddhesh', 'age': 19, 'grade': 'A'}\n"
     ]
    }
   ],
   "source": [
    "Student={\"Name\":\"Siddhesh\",\"age\":19,\"grade\":\"A\"}\n",
    "print(Student)"
   ]
  },
  {
   "cell_type": "code",
   "execution_count": 8,
   "metadata": {},
   "outputs": [
    {
     "name": "stdout",
     "output_type": "stream",
     "text": [
      "{'Name': 'Dominic', 'age': 19}\n"
     ]
    }
   ],
   "source": [
    "# Single key is always used\n",
    "Student={\"Name\":\"Siddhesh\",\"age\":19,\"Name\":\"Dominic\"}\n",
    "print(Student) #gets updated"
   ]
  },
  {
   "cell_type": "code",
   "execution_count": 14,
   "metadata": {},
   "outputs": [
    {
     "name": "stdout",
     "output_type": "stream",
     "text": [
      "A\n",
      "19\n",
      "Siddhesh\n",
      "A\n",
      "Not found\n"
     ]
    }
   ],
   "source": [
    "# accessing dict elements\n",
    "Student={\"Name\":\"Siddhesh\",\"age\":19,\"grade\":\"A\"}\n",
    "print(Student[\"grade\"])\n",
    "print(Student[\"age\"])\n",
    "\n",
    "#using the default get method\n",
    "print(Student.get(\"Name\"))\n",
    "print(Student.get(\"grade\"))\n",
    "# print(Student.get(last_name)) #error\n",
    "print(Student.get(\"last_name\",\"Not found\")) #default value"
   ]
  },
  {
   "cell_type": "code",
   "execution_count": 15,
   "metadata": {},
   "outputs": [
    {
     "name": "stdout",
     "output_type": "stream",
     "text": [
      "{'Name': 'Siddhesh', 'age': 19, 'grade': 'A'}\n"
     ]
    }
   ],
   "source": [
    "#Modifying dict elements\n",
    "#dictionaries are mutable, so u can add, update and delete elements\n",
    "\n",
    "print(Student)"
   ]
  },
  {
   "cell_type": "code",
   "execution_count": 17,
   "metadata": {},
   "outputs": [
    {
     "name": "stdout",
     "output_type": "stream",
     "text": [
      "{'Name': 'Siddhesh', 'age': 33, 'address': 'India'}\n",
      "{'Name': 'Siddhesh', 'age': 33, 'address': 'India'}\n"
     ]
    },
    {
     "ename": "KeyError",
     "evalue": "'grade'",
     "output_type": "error",
     "traceback": [
      "\u001b[31m---------------------------------------------------------------------------\u001b[39m",
      "\u001b[31mKeyError\u001b[39m                                  Traceback (most recent call last)",
      "\u001b[36mCell\u001b[39m\u001b[36m \u001b[39m\u001b[32mIn[18]\u001b[39m\u001b[32m, line 8\u001b[39m\n\u001b[32m      4\u001b[39m \u001b[38;5;28mprint\u001b[39m(Student)\n\u001b[32m      6\u001b[39m \u001b[38;5;66;03m#deleting Key and value pair\u001b[39;00m\n\u001b[32m      7\u001b[39m \u001b[38;5;66;03m# always remember, USE THE 'del' keyword to delete elements from a dictionary\u001b[39;00m\n\u001b[32m----> \u001b[39m\u001b[32m8\u001b[39m \u001b[38;5;28;01mdel\u001b[39;00m \u001b[43mStudent\u001b[49m\u001b[43m[\u001b[49m\u001b[33;43m'\u001b[39;49m\u001b[33;43mgrade\u001b[39;49m\u001b[33;43m'\u001b[39;49m\u001b[43m]\u001b[49m\n\u001b[32m      9\u001b[39m \u001b[38;5;28mprint\u001b[39m (Student)\n",
      "\u001b[31mKeyError\u001b[39m: 'grade'"
     ]
    }
   ],
   "source": [
    "Student[\"age\"]=33 #updating age\n",
    "print(Student)\n",
    "Student[\"address\"]=\"India\" # adding a new key value pair\n",
    "print(Student)\n",
    "\n",
    "#deleting Key and value pair\n",
    "# always remember, USE THE 'del' keyword to delete elements from a dictionary\n",
    "del Student['grade']\n",
    "print (Student)"
   ]
  },
  {
   "cell_type": "code",
   "execution_count": null,
   "metadata": {},
   "outputs": [
    {
     "name": "stdout",
     "output_type": "stream",
     "text": [
      "dict_keys(['Name', 'age', 'address'])\n",
      "dict_values(['Siddhesh', 33, 'India'])\n",
      "dict_items([('Name', 'Siddhesh'), ('age', 33), ('address', 'India')])\n"
     ]
    }
   ],
   "source": [
    "#common Dictionary methods\n",
    "\n",
    "keys=Student.keys() # gets all the keys\n",
    "print(keys)\n",
    "values=Student.values() #gets all the values\n",
    "print(values)\n",
    "\n",
    "items=Student.items() # gets all key value pairs\n",
    "print(items) #gives a list of tuples"
   ]
  },
  {
   "cell_type": "code",
   "execution_count": null,
   "metadata": {},
   "outputs": [
    {
     "data": {
      "text/plain": [
       "{'Name': 'Siddhesh', 'age': 33, 'address': 'India'}"
      ]
     },
     "execution_count": 20,
     "metadata": {},
     "output_type": "execute_result"
    }
   ],
   "source": [
    "# shallow copy\n",
    "Student_copy=Student #this is a problem, if we want to copy the dictionary."
   ]
  },
  {
   "cell_type": "code",
   "execution_count": 26,
   "metadata": {},
   "outputs": [
    {
     "name": "stdout",
     "output_type": "stream",
     "text": [
      "{'Name': 'Siddhesh2', 'age': 33, 'address': 'India'}\n",
      "{'Name': 'Siddhesh2', 'age': 33, 'address': 'India'}\n",
      "{'Name': 'Siddhesh2', 'age': 33, 'address': 'India'}\n"
     ]
    }
   ],
   "source": [
    "Student_copy1=Student.copy() #this is a shallow copy\n",
    "print(Student_copy1)\n",
    "Student[\"Name\"]=\"Siddhesh2\"\n",
    "print(Student_copy1)\n",
    "print(Student)"
   ]
  },
  {
   "cell_type": "code",
   "execution_count": 27,
   "metadata": {},
   "outputs": [
    {
     "name": "stdout",
     "output_type": "stream",
     "text": [
      "Name\n",
      "age\n",
      "address\n"
     ]
    }
   ],
   "source": [
    "#iterating in dictionaries\n",
    "# can use loops to iterate through dictionaries (keys, values, items)\n",
    "\n",
    "for keys in Student.keys():\n",
    "    print(keys)\n"
   ]
  },
  {
   "cell_type": "code",
   "execution_count": 28,
   "metadata": {},
   "outputs": [
    {
     "name": "stdout",
     "output_type": "stream",
     "text": [
      "Siddhesh2\n",
      "33\n",
      "India\n"
     ]
    }
   ],
   "source": [
    "# iterating over values\n",
    "for values in Student.values():\n",
    "    print(values)\n"
   ]
  },
  {
   "cell_type": "code",
   "execution_count": 29,
   "metadata": {},
   "outputs": [
    {
     "name": "stdout",
     "output_type": "stream",
     "text": [
      "Name:Siddhesh2\n",
      "age:33\n",
      "address:India\n"
     ]
    }
   ],
   "source": [
    "#iterating over items or key value pairs\n",
    "for key, value in Student.items():\n",
    "    print(f\"{key}:{value}\")"
   ]
  },
  {
   "cell_type": "code",
   "execution_count": 30,
   "metadata": {},
   "outputs": [
    {
     "name": "stdout",
     "output_type": "stream",
     "text": [
      "{'student1': {'name': 'Siddhesh', 'age': 19}, 'student2': {'name': 'Dominic', 'age': 19}}\n"
     ]
    }
   ],
   "source": [
    "## nested Dictionaries \n",
    "students={\n",
    "    'student1':{'name':'Siddhesh','age':19},\n",
    "    'student2':{'name':'Dominic','age':19}\n",
    "}\n",
    "print(students)"
   ]
  },
  {
   "cell_type": "code",
   "execution_count": 31,
   "metadata": {},
   "outputs": [
    {
     "name": "stdout",
     "output_type": "stream",
     "text": [
      "Siddhesh\n",
      "19\n"
     ]
    }
   ],
   "source": [
    "# accessing nested dict elements\n",
    "print(students['student1']['name'])\n",
    "print(students['student2']['age'])"
   ]
  },
  {
   "cell_type": "code",
   "execution_count": 36,
   "metadata": {},
   "outputs": [
    {
     "name": "stdout",
     "output_type": "stream",
     "text": [
      "student1:{'name': 'Siddhesh', 'age': 19}\n",
      "name:Siddhesh\n",
      "age:19\n",
      "student2:{'name': 'Dominic', 'age': 19}\n",
      "name:Dominic\n",
      "age:19\n"
     ]
    }
   ],
   "source": [
    "# iterating over nested dictionaries\n",
    "\n",
    "students={\n",
    "    'student1':{'name':'Siddhesh','age':19},\n",
    "    'student2':{'name':'Dominic','age':19}\n",
    "}\n",
    "\n",
    "\n",
    "for student_id,student_info in students.items():\n",
    "    print(f\"{student_id}:{student_info}\")\n",
    "    for key, value in student_info.items():\n",
    "        print(f\"{key}:{value}\")"
   ]
  },
  {
   "cell_type": "code",
   "execution_count": 38,
   "metadata": {},
   "outputs": [
    {
     "name": "stdout",
     "output_type": "stream",
     "text": [
      "{0: 0, 1: 1, 2: 4, 3: 9, 4: 16}\n"
     ]
    }
   ],
   "source": [
    "# dictionary comprehension\n",
    "squares={x:x**2 for x in range(5)} # x is the kye, and the for loop for printing its square is the value\n",
    "print(squares)"
   ]
  },
  {
   "cell_type": "code",
   "execution_count": 39,
   "metadata": {},
   "outputs": [
    {
     "name": "stdout",
     "output_type": "stream",
     "text": [
      "{0: 0, 2: 4, 4: 16, 6: 36, 8: 64}\n"
     ]
    }
   ],
   "source": [
    "# conditional dict copmprehension\n",
    "evensquares={x:x**2 for x in range(10) if x%2==0}\n",
    "print(evensquares)"
   ]
  },
  {
   "cell_type": "code",
   "execution_count": 40,
   "metadata": {},
   "outputs": [
    {
     "name": "stdout",
     "output_type": "stream",
     "text": [
      "{1: 1, 2: 2, 3: 3, 4: 4}\n"
     ]
    }
   ],
   "source": [
    "# practical examples\n",
    "\n",
    "# use a dict to counnt the frequency of elements in a list\n",
    "\n",
    "numbers=[1,2,2,3,3,3,4,4,4,4]\n",
    "frequency={}\n",
    "\n",
    "for number in numbers:\n",
    "    if number in frequency:\n",
    "        frequency[number]+=1\n",
    "    else:\n",
    "        frequency[number]=1\n",
    "print(frequency)"
   ]
  },
  {
   "cell_type": "code",
   "execution_count": 41,
   "metadata": {},
   "outputs": [],
   "source": [
    "# merge two dictionaries \n",
    "dict1={'a':1,'b':2}\n",
    "dict2={'b':3,'c':4}\n",
    "merged_dict={**dict1,**dict2} # * is used to append the key value pairs"
   ]
  },
  {
   "cell_type": "code",
   "execution_count": null,
   "metadata": {},
   "outputs": [],
   "source": []
  }
 ],
 "metadata": {
  "kernelspec": {
   "display_name": "venv",
   "language": "python",
   "name": "python3"
  },
  "language_info": {
   "codemirror_mode": {
    "name": "ipython",
    "version": 3
   },
   "file_extension": ".py",
   "mimetype": "text/x-python",
   "name": "python",
   "nbconvert_exporter": "python",
   "pygments_lexer": "ipython3",
   "version": "3.12.7"
  }
 },
 "nbformat": 4,
 "nbformat_minor": 2
}
