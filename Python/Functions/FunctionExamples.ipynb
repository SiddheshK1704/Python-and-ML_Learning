{
 "cells": [
  {
   "cell_type": "markdown",
   "metadata": {},
   "source": [
    "# Function Examples"
   ]
  },
  {
   "cell_type": "code",
   "execution_count": 1,
   "metadata": {},
   "outputs": [
    {
     "name": "stdout",
     "output_type": "stream",
     "text": [
      "77.0\n",
      "25.0\n"
     ]
    }
   ],
   "source": [
    "# Ex1: temperature conversion\n",
    "\n",
    "def convert_temp(temp,unit):\n",
    "    \"\"\"This function converts temp bw celsius and fahrenheit\"\"\"\n",
    "\n",
    "    if unit=='C':\n",
    "        return temp * 9/5 + 32 # celsius to fahrenheit\n",
    "    elif unit=='F':\n",
    "        return (temp-32)*5/9# Fahrenheit to Celsius\n",
    "    else:\n",
    "        return None\n",
    "    \n",
    "print(convert_temp(25,'C'))\n",
    "print(convert_temp(77,'F'))"
   ]
  },
  {
   "cell_type": "code",
   "execution_count": 2,
   "metadata": {},
   "outputs": [
    {
     "data": {
      "text/plain": [
       "True"
      ]
     },
     "execution_count": 2,
     "metadata": {},
     "output_type": "execute_result"
    }
   ],
   "source": [
    "# Password strength checker\n",
    "\n",
    "def isStrongpass(password):\n",
    "    \"\"\"checks if the password is strong or not \"\"\"\n",
    "    if len(password)<8:\n",
    "        return False\n",
    "    if not any(char.isdigit() for char in password):\n",
    "        return False\n",
    "    if not any(char.islower() for char in password):\n",
    "        return False\n",
    "    if not any(char.isupper() for char in password):\n",
    "        return False\n",
    "    if not any( char in '!@#$%^&*()_+' for char in password):\n",
    "        return False\n",
    "    return True\n",
    "\n",
    "#calling\n",
    "password=input(\"Enter Your password: \")\n",
    "isStrongpass(password)\n",
    "\n",
    "    "
   ]
  },
  {
   "cell_type": "code",
   "execution_count": 4,
   "metadata": {},
   "outputs": [
    {
     "name": "stdout",
     "output_type": "stream",
     "text": [
      "5.8999999999999995\n"
     ]
    }
   ],
   "source": [
    "# calculate total cost of items in a shopping cart\n",
    "\n",
    "def totalcost(cart): #prototype declaration\n",
    "    total_cost=0\n",
    "    for item in cart:\n",
    "        total_cost+=item['Price']*item['Quantity']\n",
    "\n",
    "    return total_cost\n",
    "\n",
    "#example cart data\n",
    "cart=[\n",
    "    {'Name':'Apple','Price':0.5,'Quantity':4},\n",
    "    {'Name':'Banana','Price':0.3,'Quantity':6},\n",
    "    {'Name':'Orange','Price':0.7,'Quantity':3}\n",
    "]\n",
    "\n",
    "total_cost=totalcost(cart)\n",
    "print(total_cost)"
   ]
  },
  {
   "cell_type": "code",
   "execution_count": 7,
   "metadata": {},
   "outputs": [
    {
     "name": "stdout",
     "output_type": "stream",
     "text": [
      "True\n",
      "False\n"
     ]
    }
   ],
   "source": [
    "# check if a string is a palindrome\n",
    "\n",
    "def isPalindrome(s):\n",
    "    s=s.lower().replace(\" \",\"\")\n",
    "    return s==s[::-1]\n",
    "\n",
    "print(isPalindrome(\"A man a plan a canal Panama\"))\n",
    "print(isPalindrome(\"hello\"))"
   ]
  },
  {
   "cell_type": "code",
   "execution_count": 9,
   "metadata": {},
   "outputs": [
    {
     "data": {
      "text/plain": [
       "120"
      ]
     },
     "execution_count": 9,
     "metadata": {},
     "output_type": "execute_result"
    }
   ],
   "source": [
    "# calculating factorial using recursion\n",
    "\n",
    "def factorial(n):\n",
    "    if n==0:\n",
    "        return 1\n",
    "    else:\n",
    "        return n * factorial(n-1)\n",
    "\n",
    "n=int(input(\"Enter a Number:\"))\n",
    "factorial(n)"
   ]
  },
  {
   "cell_type": "code",
   "execution_count": 10,
   "metadata": {},
   "outputs": [
    {
     "name": "stdout",
     "output_type": "stream",
     "text": [
      "{'hello': 1, 'world': 1, 'how': 1, 'are': 1, 'you': 1, 'my': 1, 'name': 1, 'is': 1, 'siddhesh': 1}\n"
     ]
    }
   ],
   "source": [
    "# a fn to read a file and count the frequency of each word\n",
    "\n",
    "def count_word_freq(file_path):\n",
    "    word_count={}\n",
    "    with open(file_path,'r') as file: #using the open function in python to read the file\n",
    "        for line in file:\n",
    "            words=line.split()\n",
    "            for word in words:\n",
    "                word=word.lower().strip(',.!?;:\"\\'')\n",
    "                word_count[word]=word_count.get(word,0)+1\n",
    "    return word_count\n",
    "\n",
    "file_path='sample.txt'\n",
    "word_frequency=count_word_freq(file_path)\n",
    "print(word_frequency)\n",
    "\n"
   ]
  },
  {
   "cell_type": "code",
   "execution_count": 11,
   "metadata": {},
   "outputs": [
    {
     "name": "stdout",
     "output_type": "stream",
     "text": [
      "True\n",
      "False\n"
     ]
    }
   ],
   "source": [
    "# validate email address\n",
    "import re\n",
    "\n",
    "#email validation function\n",
    "def is_valid_email(email):\n",
    "    \"\"\"this function checks if the email is valid\"\"\"\n",
    "    pattern=r'^[a-zA-Z0-9_.+-]+@[a-zA-Z0-9-]+\\.[a-zA-Z0-9-.]+$'\n",
    "    return re.match(pattern,email) is not None\n",
    "\n",
    "#calling the function\n",
    "print(is_valid_email(\"test@example.com\")) #output:True\n",
    "print(is_valid_email(\"Invalid-email\")) #output: False\n"
   ]
  }
 ],
 "metadata": {
  "kernelspec": {
   "display_name": "venv",
   "language": "python",
   "name": "python3"
  },
  "language_info": {
   "codemirror_mode": {
    "name": "ipython",
    "version": 3
   },
   "file_extension": ".py",
   "mimetype": "text/x-python",
   "name": "python",
   "nbconvert_exporter": "python",
   "pygments_lexer": "ipython3",
   "version": "3.12.7"
  }
 },
 "nbformat": 4,
 "nbformat_minor": 2
}
