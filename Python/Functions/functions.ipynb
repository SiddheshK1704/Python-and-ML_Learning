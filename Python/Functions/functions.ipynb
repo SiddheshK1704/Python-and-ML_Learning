{
 "cells": [
  {
   "cell_type": "markdown",
   "metadata": {},
   "source": [
    "# Functions\n",
    "A function is a block of code that performs a specific task. Help in organising the code, reusing the code and improving the readability "
   ]
  },
  {
   "cell_type": "code",
   "execution_count": null,
   "metadata": {},
   "outputs": [],
   "source": [
    "## syntax\n",
    "def function_name(parameters):\n",
    "    \"\"\"Docstring\"\"\" # used to describe the function, like documentation\n",
    "    #function body\n",
    "    return expression # not necessary that every function has a return value.\n",
    "    \n"
   ]
  },
  {
   "cell_type": "code",
   "execution_count": 1,
   "metadata": {},
   "outputs": [
    {
     "name": "stdout",
     "output_type": "stream",
     "text": [
      "the number is even\n"
     ]
    }
   ],
   "source": [
    "# why functions are required?\n",
    "num=24\n",
    "if num%2==0:\n",
    "    print(\"the number is even\")\n",
    "else:\n",
    "    print(\"the number is odd\")"
   ]
  },
  {
   "cell_type": "code",
   "execution_count": null,
   "metadata": {},
   "outputs": [
    {
     "name": "stdout",
     "output_type": "stream",
     "text": [
      "The number is odd\n"
     ]
    }
   ],
   "source": [
    "# a better way to write the above code\n",
    "def even_or_odd(num):\n",
    "    \"\"\"this function finds if a no. is even or odd\"\"\"\n",
    "    if num%2==0:\n",
    "        print(\"The number is even\")\n",
    "    else:\n",
    "        print(\"The number is odd\")\n",
    "\n",
    "num=int(input(\"Enter a number:\"))\n",
    "even_or_odd(num) # calling the function, can be used whenever the function or the code is to be reused.\n"
   ]
  },
  {
   "cell_type": "code",
   "execution_count": null,
   "metadata": {},
   "outputs": [
    {
     "data": {
      "text/plain": [
       "4"
      ]
     },
     "execution_count": 3,
     "metadata": {},
     "output_type": "execute_result"
    }
   ],
   "source": [
    "# function with multiple parameters\n",
    "def add(a,b):\n",
    "    '''c=a+b\n",
    "    return c''' # one way of writing the function\n",
    "    return a+b # a better way of writing the function\n",
    "\n",
    "# taking two numbers\n",
    "a=int(input(\"Enter first number:\")) \n",
    "b=int(input(\"Enter second number: \"))\n",
    "add(a,b)"
   ]
  },
  {
   "cell_type": "code",
   "execution_count": null,
   "metadata": {},
   "outputs": [
    {
     "name": "stdout",
     "output_type": "stream",
     "text": [
      "Hello Siddhesh! Welcome to paradise.\n"
     ]
    }
   ],
   "source": [
    "def greet(name):\n",
    "    print(f\"Hello {name}! Welcome to paradise.\")\n",
    "\n",
    "#inputing the name\n",
    "name=input(\"Enter your name:\") #default datatype in python is string\n",
    "greet(name)\n"
   ]
  },
  {
   "cell_type": "code",
   "execution_count": 8,
   "metadata": {},
   "outputs": [
    {
     "name": "stdout",
     "output_type": "stream",
     "text": [
      "Hello Guest! Welcome to paradise.\n"
     ]
    }
   ],
   "source": [
    "#default parameters\n",
    "def greet(name=\"Guest\"):\n",
    "    print(f\"Hello {name}! Welcome to paradise.\")\n",
    "\n",
    "#inputing the name\n",
    "name=input(\"Enter your name:\") #default datatype in python is string\n",
    "greet() # if no parameter is passed, it will give an error\n",
    "\n",
    "# to solve the above error, we can use default parameters, like:\n",
    "# '''def greet(name=\"Guest\")'''"
   ]
  },
  {
   "cell_type": "code",
   "execution_count": 9,
   "metadata": {},
   "outputs": [
    {
     "name": "stdout",
     "output_type": "stream",
     "text": [
      "1\n",
      "2\n",
      "3\n",
      "4\n",
      "5\n",
      "6\n",
      "7\n",
      "8\n",
      "9\n",
      "10\n"
     ]
    }
   ],
   "source": [
    "# variable length arguments\n",
    "#positional and keyword arguments\n",
    "\n",
    "def print_numbers(*args): #positional argument(good practice to write *args)\n",
    "    for number in args:\n",
    "        print(number)\n",
    "\n",
    "#now, when the function is called, it will take any no. of arguments or parameters.\n",
    "#example:\n",
    "print_numbers(1,2,3,4,5,6,7,8,9,10)"
   ]
  },
  {
   "cell_type": "code",
   "execution_count": 11,
   "metadata": {},
   "outputs": [
    {
     "name": "stdout",
     "output_type": "stream",
     "text": [
      "Printing the details:\n",
      "name:Siddhesh\n",
      "age:19\n",
      "country:India\n"
     ]
    }
   ],
   "source": [
    "# keyword argumments\n",
    "# all the parameters will be in the form of key value pairs\n",
    "def print_details(**kwargs): #best practice to write **kwargs (double asterisks) for keyword arguments\n",
    "    for key,value in kwargs.items():\n",
    "        print(f\"{key}:{value}\")\n",
    "\n",
    "#calling the function\n",
    "print(\"Printing the details:\")\n",
    "print_details(name=\"Siddhesh\",age=\"19\",country=\"India\")"
   ]
  },
  {
   "cell_type": "code",
   "execution_count": null,
   "metadata": {},
   "outputs": [
    {
     "name": "stdout",
     "output_type": "stream",
     "text": [
      "(positional args):1\n",
      "(positional args):2\n",
      "(positional args):3\n",
      "(kw args):name:Siddhesh\n",
      "(kw args):age:19\n",
      "(kw args):country:India\n"
     ]
    }
   ],
   "source": [
    "def print_details(*args,**kwargs): #best practice to write **kwargs (double asterisks) for keyword arguments\n",
    "    for val in args:\n",
    "        print(f\"(positional args):{val}\")\n",
    "    \n",
    "    for key,value in kwargs.items():\n",
    "        print(f\"(kw args):{key}:{value}\")\n",
    "\n",
    "print_details(1,2,3,name=\"Siddhesh\",age=\"19\",country=\"India\")\n",
    "\n",
    "# differentiaties by kw pairs and simple arguments.\n"
   ]
  },
  {
   "cell_type": "code",
   "execution_count": null,
   "metadata": {},
   "outputs": [
    {
     "data": {
      "text/plain": [
       "3"
      ]
     },
     "execution_count": 14,
     "metadata": {},
     "output_type": "execute_result"
    }
   ],
   "source": [
    "# return statement\n",
    "def multiply(a,b):\n",
    "    return a*b\n",
    "\n",
    "#taking inputs\n",
    "a=int(input(\"Enter First number:\"))\n",
    "b=int(input(\"Enter Second number:\"))\n",
    "multiply(a,b)"
   ]
  },
  {
   "cell_type": "code",
   "execution_count": 15,
   "metadata": {},
   "outputs": [
    {
     "data": {
      "text/plain": [
       "(6, 2)"
      ]
     },
     "execution_count": 15,
     "metadata": {},
     "output_type": "execute_result"
    }
   ],
   "source": [
    "# return Multiple parameters\n",
    "def multiply(a,b):\n",
    "    return a*b,a # can return multiple values in python\n",
    "\n",
    "#taking inputs\n",
    "a=int(input(\"Enter First number:\"))\n",
    "b=int(input(\"Enter Second number:\"))\n",
    "multiply(a,b)"
   ]
  }
 ],
 "metadata": {
  "kernelspec": {
   "display_name": "venv",
   "language": "python",
   "name": "python3"
  },
  "language_info": {
   "codemirror_mode": {
    "name": "ipython",
    "version": 3
   },
   "file_extension": ".py",
   "mimetype": "text/x-python",
   "name": "python",
   "nbconvert_exporter": "python",
   "pygments_lexer": "ipython3",
   "version": "3.12.7"
  }
 },
 "nbformat": 4,
 "nbformat_minor": 2
}
